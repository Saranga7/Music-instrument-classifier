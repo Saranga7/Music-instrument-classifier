{
 "cells": [
  {
   "cell_type": "code",
   "execution_count": 17,
   "metadata": {
    "scrolled": true
   },
   "outputs": [],
   "source": [
    "import numpy as np\n",
    "import json\n",
    "import pandas as pd\n",
    "from ast import literal_eval\n",
    "import librosa\n",
    "import keras\n",
    "\n",
    "import matplotlib.pyplot as plt"
   ]
  },
  {
   "cell_type": "code",
   "execution_count": 3,
   "metadata": {},
   "outputs": [],
   "source": [
    "data_path='mfcc_data.json'"
   ]
  },
  {
   "cell_type": "code",
   "execution_count": 4,
   "metadata": {},
   "outputs": [],
   "source": [
    "with open(data_path, \"r\") as fp:\n",
    "        data = json.load(fp)"
   ]
  },
  {
   "cell_type": "code",
   "execution_count": 5,
   "metadata": {},
   "outputs": [],
   "source": [
    "X = np.array(data[\"mfcc\"])\n",
    "y = np.array(data[\"label\"])"
   ]
  },
  {
   "cell_type": "code",
   "execution_count": 6,
   "metadata": {},
   "outputs": [
    {
     "data": {
      "text/plain": [
       "(13533, 130, 13)"
      ]
     },
     "execution_count": 6,
     "metadata": {},
     "output_type": "execute_result"
    }
   ],
   "source": [
    "X.shape"
   ]
  },
  {
   "cell_type": "code",
   "execution_count": 7,
   "metadata": {},
   "outputs": [
    {
     "data": {
      "text/plain": [
       "(13533,)"
      ]
     },
     "execution_count": 7,
     "metadata": {},
     "output_type": "execute_result"
    }
   ],
   "source": [
    "y.shape"
   ]
  },
  {
   "cell_type": "code",
   "execution_count": 8,
   "metadata": {},
   "outputs": [],
   "source": [
    "from sklearn.model_selection import train_test_split\n",
    "\n",
    "\n",
    "X_train, X_test, y_train, y_test = train_test_split(X, y, test_size=0.2, stratify=y)"
   ]
  },
  {
   "cell_type": "code",
   "execution_count": 9,
   "metadata": {},
   "outputs": [
    {
     "data": {
      "text/plain": [
       "(2707, 130, 13)"
      ]
     },
     "execution_count": 9,
     "metadata": {},
     "output_type": "execute_result"
    }
   ],
   "source": [
    "X_test.shape"
   ]
  },
  {
   "cell_type": "code",
   "execution_count": 19,
   "metadata": {},
   "outputs": [],
   "source": [
    " model = keras.Sequential([\n",
    "\n",
    "        # input layer\n",
    "        keras.layers.Flatten(input_shape=(X.shape[1], X.shape[2])),\n",
    "\n",
    "        # 1st dense layer\n",
    "        keras.layers.Dense(512, activation='relu'),\n",
    "\n",
    "        # 2nd dense layer\n",
    "        keras.layers.Dense(256, activation='relu'),\n",
    "\n",
    "        # 3rd dense layer\n",
    "        keras.layers.Dense(64, activation='relu'),\n",
    "\n",
    "        # output layer\n",
    "        keras.layers.Dense(19, activation='softmax')\n",
    "    ])"
   ]
  },
  {
   "cell_type": "code",
   "execution_count": 23,
   "metadata": {},
   "outputs": [],
   "source": [
    "optimiser = keras.optimizers.Adam(learning_rate=0.0001)\n",
    "\n",
    "model.compile(optimizer=optimiser,\n",
    "                  loss='sparse_categorical_crossentropy',\n",
    "                  metrics=['accuracy'])"
   ]
  },
  {
   "cell_type": "code",
   "execution_count": 21,
   "metadata": {},
   "outputs": [
    {
     "name": "stdout",
     "output_type": "stream",
     "text": [
      "Model: \"sequential_2\"\n",
      "_________________________________________________________________\n",
      "Layer (type)                 Output Shape              Param #   \n",
      "=================================================================\n",
      "flatten_2 (Flatten)          (None, 1690)              0         \n",
      "_________________________________________________________________\n",
      "dense_5 (Dense)              (None, 512)               865792    \n",
      "_________________________________________________________________\n",
      "dense_6 (Dense)              (None, 256)               131328    \n",
      "_________________________________________________________________\n",
      "dense_7 (Dense)              (None, 64)                16448     \n",
      "_________________________________________________________________\n",
      "dense_8 (Dense)              (None, 19)                1235      \n",
      "=================================================================\n",
      "Total params: 1,014,803\n",
      "Trainable params: 1,014,803\n",
      "Non-trainable params: 0\n",
      "_________________________________________________________________\n"
     ]
    }
   ],
   "source": [
    " model.summary()"
   ]
  },
  {
   "cell_type": "code",
   "execution_count": 24,
   "metadata": {},
   "outputs": [
    {
     "name": "stdout",
     "output_type": "stream",
     "text": [
      "Train on 10826 samples, validate on 2707 samples\n",
      "Epoch 1/50\n",
      "10826/10826 [==============================] - 76s 7ms/step - loss: 7.1713 - accuracy: 0.2284 - val_loss: 2.4292 - val_accuracy: 0.2715\n",
      "Epoch 2/50\n",
      "10826/10826 [==============================] - 4s 331us/step - loss: 2.2682 - accuracy: 0.3107 - val_loss: 2.3632 - val_accuracy: 0.2859\n",
      "Epoch 3/50\n",
      "10826/10826 [==============================] - 4s 330us/step - loss: 2.0403 - accuracy: 0.3639 - val_loss: 1.7679 - val_accuracy: 0.4614\n",
      "Epoch 4/50\n",
      "10826/10826 [==============================] - 4s 332us/step - loss: 1.7488 - accuracy: 0.4832 - val_loss: 1.5596 - val_accuracy: 0.5434\n",
      "Epoch 5/50\n",
      "10826/10826 [==============================] - 4s 332us/step - loss: 1.5760 - accuracy: 0.5288 - val_loss: 2.0191 - val_accuracy: 0.4315\n",
      "Epoch 6/50\n",
      "10826/10826 [==============================] - 4s 335us/step - loss: 1.7318 - accuracy: 0.4890 - val_loss: 1.7440 - val_accuracy: 0.4636\n",
      "Epoch 7/50\n",
      "10826/10826 [==============================] - 4s 328us/step - loss: 1.4734 - accuracy: 0.5544 - val_loss: 1.3768 - val_accuracy: 0.5896\n",
      "Epoch 8/50\n",
      "10826/10826 [==============================] - 4s 336us/step - loss: 1.3606 - accuracy: 0.5848 - val_loss: 1.3887 - val_accuracy: 0.5645\n",
      "Epoch 9/50\n",
      "10826/10826 [==============================] - 4s 329us/step - loss: 1.2841 - accuracy: 0.5986 - val_loss: 1.1121 - val_accuracy: 0.6635\n",
      "Epoch 10/50\n",
      "10826/10826 [==============================] - 4s 326us/step - loss: 1.2384 - accuracy: 0.6111 - val_loss: 1.2037 - val_accuracy: 0.6199\n",
      "Epoch 11/50\n",
      "10826/10826 [==============================] - 4s 329us/step - loss: 1.1684 - accuracy: 0.6384 - val_loss: 1.0670 - val_accuracy: 0.6731\n",
      "Epoch 12/50\n",
      "10826/10826 [==============================] - 4s 326us/step - loss: 1.1273 - accuracy: 0.6614 - val_loss: 1.0113 - val_accuracy: 0.7045\n",
      "Epoch 13/50\n",
      "10826/10826 [==============================] - 4s 332us/step - loss: 1.0645 - accuracy: 0.6696 - val_loss: 1.0112 - val_accuracy: 0.7023\n",
      "Epoch 14/50\n",
      "10826/10826 [==============================] - 4s 329us/step - loss: 1.0069 - accuracy: 0.6790 - val_loss: 0.9748 - val_accuracy: 0.6963\n",
      "Epoch 15/50\n",
      "10826/10826 [==============================] - 4s 339us/step - loss: 0.8893 - accuracy: 0.7253 - val_loss: 0.8213 - val_accuracy: 0.7732\n",
      "Epoch 16/50\n",
      "10826/10826 [==============================] - 4s 344us/step - loss: 0.8350 - accuracy: 0.7539 - val_loss: 0.9130 - val_accuracy: 0.7122\n",
      "Epoch 17/50\n",
      "10826/10826 [==============================] - 4s 349us/step - loss: 0.6721 - accuracy: 0.7924 - val_loss: 0.7691 - val_accuracy: 0.7758\n",
      "Epoch 18/50\n",
      "10826/10826 [==============================] - 4s 345us/step - loss: 0.5736 - accuracy: 0.8245 - val_loss: 0.5892 - val_accuracy: 0.8319\n",
      "Epoch 19/50\n",
      "10826/10826 [==============================] - 4s 342us/step - loss: 0.5499 - accuracy: 0.8290 - val_loss: 0.5233 - val_accuracy: 0.8511\n",
      "Epoch 20/50\n",
      "10826/10826 [==============================] - 4s 339us/step - loss: 0.4883 - accuracy: 0.8504 - val_loss: 0.6000 - val_accuracy: 0.8194\n",
      "Epoch 21/50\n",
      "10826/10826 [==============================] - 4s 339us/step - loss: 0.4312 - accuracy: 0.8711 - val_loss: 0.9642 - val_accuracy: 0.7414\n",
      "Epoch 22/50\n",
      "10826/10826 [==============================] - 4s 339us/step - loss: 0.4669 - accuracy: 0.8553 - val_loss: 0.7929 - val_accuracy: 0.7813\n",
      "Epoch 23/50\n",
      "10826/10826 [==============================] - 4s 340us/step - loss: 0.4035 - accuracy: 0.8749 - val_loss: 0.6530 - val_accuracy: 0.8190\n",
      "Epoch 24/50\n",
      "10826/10826 [==============================] - 4s 340us/step - loss: 0.3789 - accuracy: 0.8834 - val_loss: 0.5592 - val_accuracy: 0.8589\n",
      "Epoch 25/50\n",
      "10826/10826 [==============================] - 4s 341us/step - loss: 0.3599 - accuracy: 0.8856 - val_loss: 0.4607 - val_accuracy: 0.8777\n",
      "Epoch 26/50\n",
      "10826/10826 [==============================] - 4s 339us/step - loss: 0.3581 - accuracy: 0.8941 - val_loss: 0.5135 - val_accuracy: 0.8607\n",
      "Epoch 27/50\n",
      "10826/10826 [==============================] - 4s 338us/step - loss: 0.3460 - accuracy: 0.8952 - val_loss: 0.4192 - val_accuracy: 0.8884\n",
      "Epoch 28/50\n",
      "10826/10826 [==============================] - 4s 339us/step - loss: 0.2453 - accuracy: 0.9224 - val_loss: 0.3515 - val_accuracy: 0.9124\n",
      "Epoch 29/50\n",
      "10826/10826 [==============================] - 4s 339us/step - loss: 0.2843 - accuracy: 0.9128 - val_loss: 0.3904 - val_accuracy: 0.9147\n",
      "Epoch 30/50\n",
      "10826/10826 [==============================] - 4s 343us/step - loss: 0.2794 - accuracy: 0.9166 - val_loss: 0.3790 - val_accuracy: 0.9128\n",
      "Epoch 31/50\n",
      "10826/10826 [==============================] - 4s 337us/step - loss: 0.2010 - accuracy: 0.9378 - val_loss: 0.3657 - val_accuracy: 0.9088\n",
      "Epoch 32/50\n",
      "10826/10826 [==============================] - 4s 338us/step - loss: 0.2260 - accuracy: 0.9310 - val_loss: 0.3959 - val_accuracy: 0.9121\n",
      "Epoch 33/50\n",
      "10826/10826 [==============================] - 4s 339us/step - loss: 0.2161 - accuracy: 0.9316 - val_loss: 0.4662 - val_accuracy: 0.8914\n",
      "Epoch 34/50\n",
      "10826/10826 [==============================] - 4s 341us/step - loss: 0.1760 - accuracy: 0.9482 - val_loss: 0.3602 - val_accuracy: 0.9202\n",
      "Epoch 35/50\n",
      "10826/10826 [==============================] - 4s 338us/step - loss: 0.2008 - accuracy: 0.9392 - val_loss: 0.3217 - val_accuracy: 0.9232\n",
      "Epoch 36/50\n",
      "10826/10826 [==============================] - 4s 334us/step - loss: 0.1477 - accuracy: 0.9519 - val_loss: 0.5052 - val_accuracy: 0.8785\n",
      "Epoch 37/50\n",
      "10826/10826 [==============================] - 4s 342us/step - loss: 0.1919 - accuracy: 0.9418 - val_loss: 0.3592 - val_accuracy: 0.9257\n",
      "Epoch 38/50\n",
      "10826/10826 [==============================] - 4s 336us/step - loss: 0.1788 - accuracy: 0.9470 - val_loss: 0.2702 - val_accuracy: 0.9442\n",
      "Epoch 39/50\n",
      "10826/10826 [==============================] - 4s 333us/step - loss: 0.1216 - accuracy: 0.9612 - val_loss: 0.3937 - val_accuracy: 0.9128\n",
      "Epoch 40/50\n",
      "10826/10826 [==============================] - 4s 331us/step - loss: 0.1361 - accuracy: 0.9590 - val_loss: 0.2610 - val_accuracy: 0.9394\n",
      "Epoch 41/50\n",
      "10826/10826 [==============================] - 4s 334us/step - loss: 0.1036 - accuracy: 0.9687 - val_loss: 0.4579 - val_accuracy: 0.8943\n",
      "Epoch 42/50\n",
      "10826/10826 [==============================] - 4s 332us/step - loss: 0.1542 - accuracy: 0.9506 - val_loss: 0.3429 - val_accuracy: 0.9331\n",
      "Epoch 43/50\n",
      "10826/10826 [==============================] - 4s 331us/step - loss: 0.1262 - accuracy: 0.9622 - val_loss: 0.4462 - val_accuracy: 0.8873\n",
      "Epoch 44/50\n",
      "10826/10826 [==============================] - 4s 335us/step - loss: 0.1321 - accuracy: 0.9596 - val_loss: 0.4273 - val_accuracy: 0.9169\n",
      "Epoch 45/50\n",
      "10826/10826 [==============================] - 4s 331us/step - loss: 0.0942 - accuracy: 0.9705 - val_loss: 0.3167 - val_accuracy: 0.9405\n",
      "Epoch 46/50\n",
      "10826/10826 [==============================] - 4s 335us/step - loss: 0.1193 - accuracy: 0.9651 - val_loss: 0.3020 - val_accuracy: 0.9302\n",
      "Epoch 47/50\n",
      "10826/10826 [==============================] - 4s 332us/step - loss: 0.1034 - accuracy: 0.9692 - val_loss: 0.2661 - val_accuracy: 0.9453\n",
      "Epoch 48/50\n",
      "10826/10826 [==============================] - 4s 331us/step - loss: 0.0965 - accuracy: 0.9698 - val_loss: 0.3638 - val_accuracy: 0.9228\n",
      "Epoch 49/50\n",
      "10826/10826 [==============================] - 4s 336us/step - loss: 0.1079 - accuracy: 0.9668 - val_loss: 0.3163 - val_accuracy: 0.9335\n",
      "Epoch 50/50\n",
      "10826/10826 [==============================] - 4s 332us/step - loss: 0.0899 - accuracy: 0.9710 - val_loss: 0.3871 - val_accuracy: 0.9232\n"
     ]
    }
   ],
   "source": [
    " history = model.fit(X_train, y_train, validation_data=(X_test, y_test), batch_size=32, epochs=50)"
   ]
  },
  {
   "cell_type": "code",
   "execution_count": 27,
   "metadata": {},
   "outputs": [
    {
     "name": "stdout",
     "output_type": "stream",
     "text": [
      "dict_keys(['val_loss', 'val_accuracy', 'loss', 'accuracy'])\n"
     ]
    },
    {
     "data": {
      "image/png": "[encoded data removed]",
      "text/plain": [
       "<Figure size 432x288 with 1 Axes>"
      ]
     },
     "metadata": {
      "needs_background": "light"
     },
     "output_type": "display_data"
    },
    {
     "data": {
      "image/png": "[encoded data removed]",
      "text/plain": [
       "<Figure size 432x288 with 1 Axes>"
      ]
     },
     "metadata": {
      "needs_background": "light"
     },
     "output_type": "display_data"
    }
   ],
   "source": [
    "print(history.history.keys())\n",
    "# summarize history for accuracy\n",
    "plt.plot(history.history['accuracy'])\n",
    "plt.plot(history.history['val_accuracy'])\n",
    "plt.title('model accuracy')\n",
    "plt.ylabel('accuracy')\n",
    "plt.xlabel('epoch')\n",
    "plt.legend(['train', 'test'], loc='upper left')\n",
    "plt.savefig('accuracy.png')\n",
    "plt.show()\n",
    "# summarize history for loss\n",
    "plt.plot(history.history['loss'])\n",
    "plt.plot(history.history['val_loss'])\n",
    "plt.title('model loss')\n",
    "plt.ylabel('loss')\n",
    "plt.xlabel('epoch')\n",
    "plt.legend(['train', 'test'], loc='upper left')\n",
    "plt.savefig('loss.png')\n",
    "plt.show()"
   ]
  }
 ],
 "metadata": {
  "kernelspec": {
   "display_name": "Python 3",
   "language": "python",
   "name": "python3"
  }
 },
 "nbformat": 4,
 "nbformat_minor": 2
}
